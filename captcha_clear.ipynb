{
 "cells": [
  {
   "cell_type": "code",
   "execution_count": 4,
   "metadata": {},
   "outputs": [],
   "source": [
    "import torch\n",
    "import torch.nn as nn\n",
    "import torch.nn.functional as F\n",
    "import torchvision.transforms as T\n",
    "from torch.utils.data import Dataset, DataLoader\n",
    "import torch.optim as optim\n",
    "\n",
    "import numpy as np\n",
    "import pandas as pd\n",
    "import matplotlib.pyplot as plt\n",
    "import torchaudio\n",
    "import os\n",
    "from os import listdir\n",
    "from os.path import isfile, join\n",
    "\n",
    "import collections\n",
    "from tqdm import tqdm, tqdm_notebook\n",
    "from PIL import Image\n",
    "\n",
    "from sklearn.model_selection import train_test_split\n",
    "import string\n",
    "import torchmetrics"
   ]
  },
  {
   "cell_type": "markdown",
   "metadata": {},
   "source": [
    "# Подготовка данных"
   ]
  },
  {
   "cell_type": "code",
   "execution_count": 5,
   "metadata": {},
   "outputs": [],
   "source": [
    "# !unzip laba-dataset.zip"
   ]
  },
  {
   "cell_type": "code",
   "execution_count": 6,
   "metadata": {},
   "outputs": [
    {
     "data": {
      "text/plain": [
       "1070"
      ]
     },
     "execution_count": 6,
     "metadata": {},
     "output_type": "execute_result"
    }
   ],
   "source": [
    "data_dir = \"./samples/\"\n",
    "data = [f for f in listdir(data_dir) if isfile(join(data_dir, f))]\n",
    "len(data)"
   ]
  },
  {
   "cell_type": "code",
   "execution_count": 7,
   "metadata": {},
   "outputs": [],
   "source": [
    "device = torch.device(\"cuda:1\" if torch.cuda.is_available() else \"cpu\")"
   ]
  },
  {
   "cell_type": "code",
   "execution_count": 8,
   "metadata": {},
   "outputs": [
    {
     "name": "stdout",
     "output_type": "stream",
     "text": [
      "37\n"
     ]
    }
   ],
   "source": [
    "all_symbols = string.ascii_lowercase + string.digits\n",
    "\n",
    "symbol_to_class = {}\n",
    "class_to_symbol = {}\n",
    "for idx, symbol in enumerate(all_symbols):\n",
    "    symbol_to_class[symbol] = idx + 1\n",
    "    class_to_symbol[idx + 1] = symbol\n",
    "\n",
    "symbol_to_class[\"-\"] = 0\n",
    "class_to_symbol[0] = \"-\"\n",
    "num_class = len(symbol_to_class)\n",
    "print(num_class)"
   ]
  },
  {
   "cell_type": "code",
   "execution_count": 9,
   "metadata": {},
   "outputs": [
    {
     "data": {
      "text/plain": [
       "37"
      ]
     },
     "execution_count": 9,
     "metadata": {},
     "output_type": "execute_result"
    }
   ],
   "source": [
    "num_classes = len(class_to_symbol.keys())\n",
    "num_classes"
   ]
  },
  {
   "cell_type": "code",
   "execution_count": 10,
   "metadata": {},
   "outputs": [
    {
     "data": {
      "text/html": [
       "<div>\n",
       "<style scoped>\n",
       "    .dataframe tbody tr th:only-of-type {\n",
       "        vertical-align: middle;\n",
       "    }\n",
       "\n",
       "    .dataframe tbody tr th {\n",
       "        vertical-align: top;\n",
       "    }\n",
       "\n",
       "    .dataframe thead th {\n",
       "        text-align: right;\n",
       "    }\n",
       "</style>\n",
       "<table border=\"1\" class=\"dataframe\">\n",
       "  <thead>\n",
       "    <tr style=\"text-align: right;\">\n",
       "      <th></th>\n",
       "      <th>images_paths</th>\n",
       "      <th>labels</th>\n",
       "    </tr>\n",
       "  </thead>\n",
       "  <tbody>\n",
       "    <tr>\n",
       "      <th>0</th>\n",
       "      <td>./samples/226md.png</td>\n",
       "      <td>[29, 29, 33, 13, 4]</td>\n",
       "    </tr>\n",
       "    <tr>\n",
       "      <th>1</th>\n",
       "      <td>./samples/22d5n.png</td>\n",
       "      <td>[29, 29, 4, 32, 14]</td>\n",
       "    </tr>\n",
       "    <tr>\n",
       "      <th>2</th>\n",
       "      <td>./samples/2356g.png</td>\n",
       "      <td>[29, 30, 32, 33, 7]</td>\n",
       "    </tr>\n",
       "    <tr>\n",
       "      <th>3</th>\n",
       "      <td>./samples/23mdg.png</td>\n",
       "      <td>[29, 30, 13, 4, 7]</td>\n",
       "    </tr>\n",
       "    <tr>\n",
       "      <th>4</th>\n",
       "      <td>./samples/23n88.png</td>\n",
       "      <td>[29, 30, 14, 35, 35]</td>\n",
       "    </tr>\n",
       "  </tbody>\n",
       "</table>\n",
       "</div>"
      ],
      "text/plain": [
       "          images_paths                labels\n",
       "0  ./samples/226md.png   [29, 29, 33, 13, 4]\n",
       "1  ./samples/22d5n.png   [29, 29, 4, 32, 14]\n",
       "2  ./samples/2356g.png   [29, 30, 32, 33, 7]\n",
       "3  ./samples/23mdg.png    [29, 30, 13, 4, 7]\n",
       "4  ./samples/23n88.png  [29, 30, 14, 35, 35]"
      ]
     },
     "execution_count": 10,
     "metadata": {},
     "output_type": "execute_result"
    }
   ],
   "source": [
    "images = []\n",
    "labels = []\n",
    "for name in data:\n",
    "    images.append(os.path.join(data_dir, name))\n",
    "    lab = name.split(\".\")[-2]\n",
    "    lab = [symbol_to_class[symb] for symb in lab]\n",
    "    labels.append(lab)\n",
    "    \n",
    "df_data = {\"images_paths\": images, \"labels\": labels}\n",
    "df = pd.DataFrame(df_data)\n",
    "df.head()"
   ]
  },
  {
   "cell_type": "code",
   "execution_count": 11,
   "metadata": {},
   "outputs": [],
   "source": [
    "df_train, df_test = train_test_split(df, test_size=0.2, shuffle=True, random_state=42)"
   ]
  },
  {
   "cell_type": "code",
   "execution_count": 12,
   "metadata": {},
   "outputs": [],
   "source": [
    "class CustomDataset(Dataset):\n",
    "\n",
    "    def __init__(self, df, transform=None):\n",
    "        self.df = df\n",
    "        self.paths = df[\"images_paths\"].to_list()\n",
    "        self.labels = df[\"labels\"].to_list()\n",
    "        self.transform = transform\n",
    "        \n",
    "    def __len__(self):\n",
    "        return len(self.df)\n",
    "    \n",
    "    def __getitem__(self, idx):\n",
    "        image = Image.open(self.paths[idx]).convert(\"L\")\n",
    "        label = torch.tensor(self.labels[idx], dtype=torch.int32)\n",
    "        \n",
    "        if self.transform is not None:\n",
    "            image = self.transform(image)\n",
    "        \n",
    "        return image, label\n",
    "        \n",
    "     \n",
    "transform_train = T.Compose([\n",
    "    T.ToTensor(),\n",
    "    T.Resize((50, 200)),\n",
    "    # T.RandomRotation(degrees=20)\n",
    "    # T.ColorJitter() # brightness=0, contrast=0, saturation=0, hue=0\n",
    "])\n",
    "\n",
    "transform_test = T.Compose([\n",
    "    T.ToTensor(),\n",
    "    T.Resize((50, 200))\n",
    "])\n",
    "\n",
    "train_data = CustomDataset(df_train, transform_train)\n",
    "test_data = CustomDataset(df_test, transform_test)\n",
    "\n",
    "train_loader = DataLoader(train_data, batch_size=64, shuffle=True, num_workers=4)\n",
    "test_loader = DataLoader(test_data, batch_size=64, shuffle=False, num_workers=4)"
   ]
  },
  {
   "cell_type": "markdown",
   "metadata": {},
   "source": [
    "# Создание и обучение модели. Подсчет метрик."
   ]
  },
  {
   "cell_type": "code",
   "execution_count": 57,
   "metadata": {},
   "outputs": [],
   "source": [
    "class CaptchaRecognitionModel(nn.Module):\n",
    "\n",
    "    def __init__(self, in_channels, num_classes=num_classes):\n",
    "        super(CaptchaRecognitionModel, self).__init__()\n",
    "        # channels = [in_channels, 64, 128, 256, 512, 512]\n",
    "        \n",
    "        # layers = []\n",
    "        # for idx in range(1, len(channels)):\n",
    "        #     if idx <= 3:\n",
    "        #         pool_kernel_size = 2\n",
    "        #     elif 3 < idx <= 4:\n",
    "        #         pool_kernel_size = (1, 1)\n",
    "        #     else:\n",
    "        #         pool_kernel_size = (1, 2)\n",
    "                \n",
    "        #     layer = nn.Sequential(\n",
    "        #         nn.Conv2d(in_channels=channels[idx-1], out_channels=channels[idx], kernel_size=3, stride=1, padding=1),\n",
    "        #         nn.MaxPool2d(kernel_size=pool_kernel_size, stride=2),\n",
    "        #         nn.BatchNorm2d(channels[idx]),\n",
    "        #         nn.ReLU(),\n",
    "        #     )\n",
    "        #     layers.append(layer)\n",
    "        # self.cnn = nn.Sequential(*layers)\n",
    "        self.cnn = nn.Sequential(\n",
    "              nn.Conv2d(in_channels=1, out_channels=64, kernel_size=3, stride=1, padding=1),\n",
    "              nn.MaxPool2d(kernel_size=2, stride=2),\n",
    "              nn.BatchNorm2d(64),\n",
    "              nn.ReLU(),\n",
    "\n",
    "              nn.Conv2d(in_channels=64, out_channels=128, kernel_size=3, stride=1, padding=1),\n",
    "              nn.MaxPool2d(kernel_size=2, stride=2),\n",
    "              nn.BatchNorm2d(128),\n",
    "              nn.ReLU(),\n",
    "\n",
    "              nn.Conv2d(in_channels=128, out_channels=256, kernel_size=3, stride=1, padding=1),\n",
    "              nn.MaxPool2d(kernel_size=(1, 2), stride=2),\n",
    "              nn.BatchNorm2d(256),\n",
    "              nn.ReLU(),\n",
    "\n",
    "              nn.Conv2d(in_channels=256, out_channels=512, kernel_size=3, stride=1, padding=1),\n",
    "              nn.BatchNorm2d(512),\n",
    "              nn.ReLU(),\n",
    "\n",
    "              nn.MaxPool2d(kernel_size=(1, 2), stride=2),\n",
    "              nn.Conv2d(in_channels=512, out_channels=512, kernel_size=2, stride=1, padding=0),\n",
    "              nn.BatchNorm2d(512),\n",
    "              nn.ReLU(),\n",
    "        )\n",
    "        self.lin1 = nn.Linear(512 * 2, 128)   \n",
    "        self.lstm = nn.LSTM(128, 256, num_layers=2, bidirectional=True)\n",
    "        self.embed = nn.Linear(2 * 256, num_classes)\n",
    "        \n",
    "    def forward(self, x):\n",
    "\n",
    "        out = self.cnn(x)\n",
    "        N, C, w, h = out.size()\n",
    "        out = out.view(N, -1, h)\n",
    "        out = out.permute(0, 2, 1)\n",
    "        out = self.lin1(out)\n",
    "        out = out.permute(1, 0, 2)\n",
    "        out, _ = self.lstm(out)\n",
    "        out = self.embed(out)\n",
    "    \n",
    "        input_lengths = torch.full(size=(out.size(1),), fill_value=out.size(0), dtype=torch.int32)\n",
    "        target_lengths = torch.full(size=(out.size(1),), fill_value=5, dtype=torch.int32)\n",
    "        return out, input_lengths, target_lengths\n",
    "        "
   ]
  },
  {
   "cell_type": "code",
   "execution_count": 78,
   "metadata": {},
   "outputs": [],
   "source": [
    "def train(\n",
    "    model, optimizer, criterion, epochs=50, device=device, \n",
    "    train_loader=None, test_loader=None, scheduler=None, metric=None\n",
    "    ):\n",
    "        \n",
    "    def fit():\n",
    "        hist_loss = []\n",
    "        test_cer_epochs = []\n",
    "        for epoch in tqdm(range(epochs)):\n",
    "            model.train()\n",
    "            running_cer = 0\n",
    "            running_loss = 0\n",
    "            for batch_images, gt_labels in train_loader:\n",
    "                batch_images = batch_images.to(device)\n",
    "                gt_labels = gt_labels.to(device)\n",
    "                optimizer.zero_grad()\n",
    "                \n",
    "                out, input_lengths, target_lengths = model(batch_images)\n",
    "                log_prob = F.log_softmax(out, dim=2)\n",
    "                \n",
    "                loss = criterion(log_prob, gt_labels, input_lengths, target_lengths)\n",
    "                running_loss += loss.item()\n",
    "                loss.backward()\n",
    "                optimizer.step()\n",
    "                out = out.permute(1, 0, 2)\n",
    "                out = out.log_softmax(2)\n",
    "                out = out.argmax(-1)\n",
    "                decoded_out = decode_ctc(out, class_to_symbol)\n",
    "                decoded_gt_labels = decode_ctc(gt_labels, class_to_symbol)\n",
    "                \n",
    "                cer = metric(decoded_out, decoded_gt_labels)\n",
    "                running_cer += cer\n",
    "                \n",
    "    \n",
    "            epoch_loss = running_loss / len(train_loader)\n",
    "            epoch_cer = running_cer / len(train_loader)\n",
    "            print(f\"Epoch {epoch}| Train Loss: {epoch_loss}| Train CER {epoch_cer}\")\n",
    "\n",
    "            decoded_outs, decoded_labs_all, test_loss = test()\n",
    "\n",
    "        return decoded_outs, decoded_labs_all, test_loss\n",
    "    def test():\n",
    "        model.eval()\n",
    "        batch_cer = 0\n",
    "        batch_loss = 0\n",
    "        decoded_outs = []\n",
    "        decoded_labs_all = []\n",
    "        with torch.no_grad():\n",
    "            for batch_images, gt_labels in test_loader:\n",
    "                batch_images = batch_images.to(device)\n",
    "                gt_labels = gt_labels.to(device)\n",
    "                out, input_lengths, target_lengths = model(batch_images)\n",
    "                log_prob = F.log_softmax(out, dim=2)\n",
    "                loss = criterion(log_prob, gt_labels, input_lengths, target_lengths)\n",
    "                batch_loss += loss.item()\n",
    "                out = out.permute(1, 0, 2)\n",
    "                out = out.log_softmax(2)\n",
    "                out = out.argmax(-1)\n",
    "                decoded_out = decode_ctc(out, class_to_symbol)\n",
    "                decoded_gt_labels = decode_ctc(gt_labels, class_to_symbol)\n",
    "                decoded_outs.append(decoded_out)\n",
    "                decoded_labs_all.append(decoded_gt_labels)\n",
    "                cer = metric(decoded_out, decoded_gt_labels)\n",
    "                batch_cer += cer\n",
    "                \n",
    "            test_loss = batch_loss / len(test_loader)\n",
    "            test_cer = batch_cer / len(test_loader)\n",
    "            # scheduler.step(test_cer[-1])\n",
    "            scheduler.step(test_loss)\n",
    "            print(f\"Test Loss:, {test_loss} | Test CER {test_cer}\")\n",
    "        return decoded_outs, decoded_labs_all, test_loss\n",
    "    decoded_outs, decoded_labs_all, test_loss = fit()\n",
    "    return model, decoded_outs, decoded_labs_all, test_loss"
   ]
  },
  {
   "cell_type": "code",
   "execution_count": 79,
   "metadata": {},
   "outputs": [],
   "source": [
    "def decode_ctc(preds, class_to_symbol):\n",
    "    batch_res = []\n",
    "    for elem in preds:\n",
    "        res = \"\"\n",
    "        for ch in elem:\n",
    "            if ch.item() == 0:\n",
    "                continue\n",
    "            else:\n",
    "                res += class_to_symbol[ch.item()]\n",
    "        batch_res.append(res)\n",
    "    return batch_res\n",
    "        "
   ]
  },
  {
   "cell_type": "code",
   "execution_count": 80,
   "metadata": {},
   "outputs": [
    {
     "name": "stderr",
     "output_type": "stream",
     "text": [
      "  0%|          | 0/75 [00:00<?, ?it/s]"
     ]
    },
    {
     "name": "stdout",
     "output_type": "stream",
     "text": [
      "Epoch 0| Train Loss: 3.962541171482631| Train CER 1.0812499523162842\n"
     ]
    },
    {
     "name": "stderr",
     "output_type": "stream",
     "text": [
      "  1%|▏         | 1/75 [00:01<02:20,  1.90s/it]"
     ]
    },
    {
     "name": "stdout",
     "output_type": "stream",
     "text": [
      "Test Loss:, 3.2650161385536194 | Test CER 1.0\n",
      "Epoch 1| Train Loss: 3.2551519700459073| Train CER 1.0\n"
     ]
    },
    {
     "name": "stderr",
     "output_type": "stream",
     "text": [
      "  3%|▎         | 2/75 [00:03<02:26,  2.01s/it]"
     ]
    },
    {
     "name": "stdout",
     "output_type": "stream",
     "text": [
      "Test Loss:, 3.2294276356697083 | Test CER 1.0\n",
      "Epoch 2| Train Loss: 3.230800747871399| Train CER 1.0\n"
     ]
    },
    {
     "name": "stderr",
     "output_type": "stream",
     "text": [
      "  4%|▍         | 3/75 [00:06<02:27,  2.05s/it]"
     ]
    },
    {
     "name": "stdout",
     "output_type": "stream",
     "text": [
      "Test Loss:, 3.2186055183410645 | Test CER 1.0\n",
      "Epoch 3| Train Loss: 3.2285306794302806| Train CER 1.0\n"
     ]
    },
    {
     "name": "stderr",
     "output_type": "stream",
     "text": [
      "  5%|▌         | 4/75 [00:08<02:26,  2.07s/it]"
     ]
    },
    {
     "name": "stdout",
     "output_type": "stream",
     "text": [
      "Test Loss:, 3.232356309890747 | Test CER 1.0\n",
      "Epoch 4| Train Loss: 3.2237983431134904| Train CER 1.0\n"
     ]
    },
    {
     "name": "stderr",
     "output_type": "stream",
     "text": [
      "  7%|▋         | 5/75 [00:10<02:27,  2.11s/it]"
     ]
    },
    {
     "name": "stdout",
     "output_type": "stream",
     "text": [
      "Test Loss:, 3.2208282351493835 | Test CER 1.0\n",
      "Epoch 5| Train Loss: 3.224017381668091| Train CER 1.0\n"
     ]
    },
    {
     "name": "stderr",
     "output_type": "stream",
     "text": [
      "  8%|▊         | 6/75 [00:12<02:22,  2.07s/it]"
     ]
    },
    {
     "name": "stdout",
     "output_type": "stream",
     "text": [
      "Test Loss:, 3.2164820432662964 | Test CER 1.0\n",
      "Epoch 6| Train Loss: 3.174220766339983| Train CER 1.0\n"
     ]
    },
    {
     "name": "stderr",
     "output_type": "stream",
     "text": [
      "  9%|▉         | 7/75 [00:14<02:17,  2.03s/it]"
     ]
    },
    {
     "name": "stdout",
     "output_type": "stream",
     "text": [
      "Test Loss:, 3.155783474445343 | Test CER 1.0\n",
      "Epoch 7| Train Loss: 3.0490710394723073| Train CER 1.0\n"
     ]
    },
    {
     "name": "stderr",
     "output_type": "stream",
     "text": [
      " 11%|█         | 8/75 [00:16<02:17,  2.05s/it]"
     ]
    },
    {
     "name": "stdout",
     "output_type": "stream",
     "text": [
      "Test Loss:, 2.9601246118545532 | Test CER 1.0\n",
      "Epoch 8| Train Loss: 2.8963852439607893| Train CER 1.0\n"
     ]
    },
    {
     "name": "stderr",
     "output_type": "stream",
     "text": [
      " 12%|█▏        | 9/75 [00:18<02:16,  2.06s/it]"
     ]
    },
    {
     "name": "stdout",
     "output_type": "stream",
     "text": [
      "Test Loss:, 3.0773152709007263 | Test CER 1.0\n",
      "Epoch 9| Train Loss: 2.768446445465088| Train CER 0.9918155074119568\n"
     ]
    },
    {
     "name": "stderr",
     "output_type": "stream",
     "text": [
      " 13%|█▎        | 10/75 [00:20<02:14,  2.07s/it]"
     ]
    },
    {
     "name": "stdout",
     "output_type": "stream",
     "text": [
      "Test Loss:, 2.6711220145225525 | Test CER 0.9612215757369995\n",
      "Epoch 10| Train Loss: 2.53822546345847| Train CER 0.9382439851760864\n"
     ]
    },
    {
     "name": "stderr",
     "output_type": "stream",
     "text": [
      " 15%|█▍        | 11/75 [00:22<02:11,  2.06s/it]"
     ]
    },
    {
     "name": "stdout",
     "output_type": "stream",
     "text": [
      "Test Loss:, 2.4295830726623535 | Test CER 0.9039062261581421\n",
      "Epoch 11| Train Loss: 2.2431338855198453| Train CER 0.8671131134033203\n"
     ]
    },
    {
     "name": "stderr",
     "output_type": "stream",
     "text": [
      " 16%|█▌        | 12/75 [00:24<02:09,  2.06s/it]"
     ]
    },
    {
     "name": "stdout",
     "output_type": "stream",
     "text": [
      "Test Loss:, 2.1405858397483826 | Test CER 0.8354403972625732\n",
      "Epoch 12| Train Loss: 1.9346171958105904| Train CER 0.7761161923408508\n"
     ]
    },
    {
     "name": "stderr",
     "output_type": "stream",
     "text": [
      " 17%|█▋        | 13/75 [00:26<02:07,  2.05s/it]"
     ]
    },
    {
     "name": "stdout",
     "output_type": "stream",
     "text": [
      "Test Loss:, 1.8250917792320251 | Test CER 0.7449573874473572\n",
      "Epoch 13| Train Loss: 1.607869667666299| Train CER 0.6258183717727661\n"
     ]
    },
    {
     "name": "stderr",
     "output_type": "stream",
     "text": [
      " 19%|█▊        | 14/75 [00:28<02:04,  2.04s/it]"
     ]
    },
    {
     "name": "stdout",
     "output_type": "stream",
     "text": [
      "Test Loss:, 1.5295950770378113 | Test CER 0.5732954740524292\n",
      "Epoch 14| Train Loss: 1.2885409934180123| Train CER 0.5061756372451782\n"
     ]
    },
    {
     "name": "stderr",
     "output_type": "stream",
     "text": [
      " 20%|██        | 15/75 [00:30<02:03,  2.06s/it]"
     ]
    },
    {
     "name": "stdout",
     "output_type": "stream",
     "text": [
      "Test Loss:, 1.3305000960826874 | Test CER 0.5446022748947144\n",
      "Epoch 15| Train Loss: 1.0601921677589417| Train CER 0.4018600881099701\n"
     ]
    },
    {
     "name": "stderr",
     "output_type": "stream",
     "text": [
      " 21%|██▏       | 16/75 [00:32<02:01,  2.05s/it]"
     ]
    },
    {
     "name": "stdout",
     "output_type": "stream",
     "text": [
      "Test Loss:, 1.143719643354416 | Test CER 0.43884944915771484\n",
      "Epoch 16| Train Loss: 0.8455347035612378| Train CER 0.29627975821495056\n"
     ]
    },
    {
     "name": "stderr",
     "output_type": "stream",
     "text": [
      " 23%|██▎       | 17/75 [00:34<01:59,  2.05s/it]"
     ]
    },
    {
     "name": "stdout",
     "output_type": "stream",
     "text": [
      "Test Loss:, 0.9052511155605316 | Test CER 0.34332385659217834\n",
      "Epoch 17| Train Loss: 0.6310073563030788| Train CER 0.20818449556827545\n"
     ]
    },
    {
     "name": "stderr",
     "output_type": "stream",
     "text": [
      " 24%|██▍       | 18/75 [00:37<01:57,  2.07s/it]"
     ]
    },
    {
     "name": "stdout",
     "output_type": "stream",
     "text": [
      "Test Loss:, 0.6873370260000229 | Test CER 0.19453126192092896\n",
      "Epoch 18| Train Loss: 0.47826930454799105| Train CER 0.14866070449352264\n"
     ]
    },
    {
     "name": "stderr",
     "output_type": "stream",
     "text": [
      " 25%|██▌       | 19/75 [00:39<01:56,  2.08s/it]"
     ]
    },
    {
     "name": "stdout",
     "output_type": "stream",
     "text": [
      "Test Loss:, 0.6536752134561539 | Test CER 0.21825283765792847\n",
      "Epoch 19| Train Loss: 0.3673893213272095| Train CER 0.1138392761349678\n"
     ]
    },
    {
     "name": "stderr",
     "output_type": "stream",
     "text": [
      " 27%|██▋       | 20/75 [00:41<01:54,  2.08s/it]"
     ]
    },
    {
     "name": "stdout",
     "output_type": "stream",
     "text": [
      "Test Loss:, 0.6201350465416908 | Test CER 0.208877831697464\n",
      "Epoch 20| Train Loss: 0.26632153349263327| Train CER 0.08660714328289032\n"
     ]
    },
    {
     "name": "stderr",
     "output_type": "stream",
     "text": [
      " 28%|██▊       | 21/75 [00:43<01:52,  2.08s/it]"
     ]
    },
    {
     "name": "stdout",
     "output_type": "stream",
     "text": [
      "Test Loss:, 0.6730076298117638 | Test CER 0.23913352191448212\n",
      "Epoch 21| Train Loss: 0.2133120202592441| Train CER 0.07485119253396988\n"
     ]
    },
    {
     "name": "stderr",
     "output_type": "stream",
     "text": [
      " 29%|██▉       | 22/75 [00:45<01:47,  2.03s/it]"
     ]
    },
    {
     "name": "stdout",
     "output_type": "stream",
     "text": [
      "Test Loss:, 0.41636093333363533 | Test CER 0.14098010957241058\n",
      "Epoch 22| Train Loss: 0.12855414194720133| Train CER 0.04159226268529892\n"
     ]
    },
    {
     "name": "stderr",
     "output_type": "stream",
     "text": [
      " 31%|███       | 23/75 [00:47<01:46,  2.05s/it]"
     ]
    },
    {
     "name": "stdout",
     "output_type": "stream",
     "text": [
      "Test Loss:, 0.32945265620946884 | Test CER 0.12123578786849976\n",
      "Epoch 23| Train Loss: 0.09265545862061637| Train CER 0.03229166939854622\n"
     ]
    },
    {
     "name": "stderr",
     "output_type": "stream",
     "text": [
      " 32%|███▏      | 24/75 [00:49<01:44,  2.04s/it]"
     ]
    },
    {
     "name": "stdout",
     "output_type": "stream",
     "text": [
      "Test Loss:, 0.3151296637952328 | Test CER 0.10113636404275894\n",
      "Epoch 24| Train Loss: 0.07591535390487739| Train CER 0.02544642984867096\n"
     ]
    },
    {
     "name": "stderr",
     "output_type": "stream",
     "text": [
      " 33%|███▎      | 25/75 [00:51<01:41,  2.02s/it]"
     ]
    },
    {
     "name": "stdout",
     "output_type": "stream",
     "text": [
      "Test Loss:, 0.40490514039993286 | Test CER 0.13515625894069672\n",
      "Epoch 25| Train Loss: 0.08676749787160329| Train CER 0.0331101194024086\n"
     ]
    },
    {
     "name": "stderr",
     "output_type": "stream",
     "text": [
      " 35%|███▍      | 26/75 [00:53<01:38,  2.02s/it]"
     ]
    },
    {
     "name": "stdout",
     "output_type": "stream",
     "text": [
      "Test Loss:, 0.3419182226061821 | Test CER 0.11882102489471436\n",
      "Epoch 26| Train Loss: 0.08206827406372343| Train CER 0.02968749962747097\n"
     ]
    },
    {
     "name": "stderr",
     "output_type": "stream",
     "text": [
      " 36%|███▌      | 27/75 [00:55<01:37,  2.03s/it]"
     ]
    },
    {
     "name": "stdout",
     "output_type": "stream",
     "text": [
      "Test Loss:, 0.4899025857448578 | Test CER 0.14794033765792847\n",
      "Epoch 27| Train Loss: 0.060730667784810066| Train CER 0.02663690410554409\n"
     ]
    },
    {
     "name": "stderr",
     "output_type": "stream",
     "text": [
      " 37%|███▋      | 28/75 [00:57<01:35,  2.03s/it]"
     ]
    },
    {
     "name": "stdout",
     "output_type": "stream",
     "text": [
      "Test Loss:, 0.30712712556123734 | Test CER 0.09417614340782166\n",
      "Epoch 28| Train Loss: 0.037237339919166904| Train CER 0.0182291679084301\n"
     ]
    },
    {
     "name": "stderr",
     "output_type": "stream",
     "text": [
      " 39%|███▊      | 29/75 [00:59<01:35,  2.08s/it]"
     ]
    },
    {
     "name": "stdout",
     "output_type": "stream",
     "text": [
      "Test Loss:, 0.267343457788229 | Test CER 0.09488636255264282\n",
      "Epoch 29| Train Loss: 0.029068168784890856| Train CER 0.015550595708191395\n"
     ]
    },
    {
     "name": "stderr",
     "output_type": "stream",
     "text": [
      " 40%|████      | 30/75 [01:01<01:33,  2.08s/it]"
     ]
    },
    {
     "name": "stdout",
     "output_type": "stream",
     "text": [
      "Test Loss:, 0.29386597871780396 | Test CER 0.09183238446712494\n",
      "Epoch 30| Train Loss: 0.0246166208359812| Train CER 0.015327381901443005\n"
     ]
    },
    {
     "name": "stderr",
     "output_type": "stream",
     "text": [
      " 41%|████▏     | 31/75 [01:03<01:30,  2.06s/it]"
     ]
    },
    {
     "name": "stdout",
     "output_type": "stream",
     "text": [
      "Test Loss:, 0.2168684732168913 | Test CER 0.0778409093618393\n",
      "Epoch 31| Train Loss: 0.040432618531797616| Train CER 0.02373511902987957\n"
     ]
    },
    {
     "name": "stderr",
     "output_type": "stream",
     "text": [
      " 43%|████▎     | 32/75 [01:05<01:27,  2.04s/it]"
     ]
    },
    {
     "name": "stdout",
     "output_type": "stream",
     "text": [
      "Test Loss:, 0.2819130942225456 | Test CER 0.10823863744735718\n",
      "Epoch 32| Train Loss: 0.04264740299965654| Train CER 0.02470238134264946\n"
     ]
    },
    {
     "name": "stderr",
     "output_type": "stream",
     "text": [
      " 44%|████▍     | 33/75 [01:07<01:26,  2.05s/it]"
     ]
    },
    {
     "name": "stdout",
     "output_type": "stream",
     "text": [
      "Test Loss:, 0.22550653666257858 | Test CER 0.06853692978620529\n",
      "Epoch 33| Train Loss: 0.03792252078918474| Train CER 0.02313988097012043\n"
     ]
    },
    {
     "name": "stderr",
     "output_type": "stream",
     "text": [
      " 45%|████▌     | 34/75 [01:09<01:23,  2.04s/it]"
     ]
    },
    {
     "name": "stdout",
     "output_type": "stream",
     "text": [
      "Test Loss:, 0.21141192689538002 | Test CER 0.08068181574344635\n",
      "Epoch 34| Train Loss: 0.026013822427817752| Train CER 0.02366071566939354\n"
     ]
    },
    {
     "name": "stderr",
     "output_type": "stream",
     "text": [
      " 47%|████▋     | 35/75 [01:11<01:22,  2.06s/it]"
     ]
    },
    {
     "name": "stdout",
     "output_type": "stream",
     "text": [
      "Test Loss:, 0.19522243738174438 | Test CER 0.07088068872690201\n",
      "Epoch 35| Train Loss: 0.017373511966850077| Train CER 0.01607142947614193\n"
     ]
    },
    {
     "name": "stderr",
     "output_type": "stream",
     "text": [
      " 48%|████▊     | 36/75 [01:13<01:20,  2.07s/it]"
     ]
    },
    {
     "name": "stdout",
     "output_type": "stream",
     "text": [
      "Test Loss:, 0.16173228714615107 | Test CER 0.05930398032069206\n",
      "Epoch 36| Train Loss: 0.012085178334798132| Train CER 0.01696428656578064\n"
     ]
    },
    {
     "name": "stderr",
     "output_type": "stream",
     "text": [
      " 49%|████▉     | 37/75 [01:16<01:18,  2.05s/it]"
     ]
    },
    {
     "name": "stdout",
     "output_type": "stream",
     "text": [
      "Test Loss:, 0.1889979373663664 | Test CER 0.0661221593618393\n",
      "Epoch 37| Train Loss: 0.007359514245763421| Train CER 0.012053572572767735\n"
     ]
    },
    {
     "name": "stderr",
     "output_type": "stream",
     "text": [
      " 51%|█████     | 38/75 [01:17<01:15,  2.03s/it]"
     ]
    },
    {
     "name": "stdout",
     "output_type": "stream",
     "text": [
      "Test Loss:, 0.15941121149808168 | Test CER 0.048366475850343704\n",
      "Epoch 38| Train Loss: 0.005185975560120174| Train CER 0.01183035783469677\n"
     ]
    },
    {
     "name": "stderr",
     "output_type": "stream",
     "text": [
      " 52%|█████▏    | 39/75 [01:20<01:14,  2.06s/it]"
     ]
    },
    {
     "name": "stdout",
     "output_type": "stream",
     "text": [
      "Test Loss:, 0.14692888967692852 | Test CER 0.04992898181080818\n",
      "Epoch 39| Train Loss: 0.004316255799494684| Train CER 0.01108630932867527\n"
     ]
    },
    {
     "name": "stderr",
     "output_type": "stream",
     "text": [
      " 53%|█████▎    | 40/75 [01:22<01:11,  2.04s/it]"
     ]
    },
    {
     "name": "stdout",
     "output_type": "stream",
     "text": [
      "Test Loss:, 0.14488764572888613 | Test CER 0.046875\n",
      "Epoch 40| Train Loss: 0.003818109249030905| Train CER 0.01049107126891613\n"
     ]
    },
    {
     "name": "stderr",
     "output_type": "stream",
     "text": [
      " 55%|█████▍    | 41/75 [01:24<01:09,  2.05s/it]"
     ]
    },
    {
     "name": "stdout",
     "output_type": "stream",
     "text": [
      "Test Loss:, 0.1475068088620901 | Test CER 0.04765624925494194\n",
      "Epoch 41| Train Loss: 0.0035155145617734107| Train CER 0.009598215110599995\n"
     ]
    },
    {
     "name": "stderr",
     "output_type": "stream",
     "text": [
      " 56%|█████▌    | 42/75 [01:26<01:08,  2.07s/it]"
     ]
    },
    {
     "name": "stdout",
     "output_type": "stream",
     "text": [
      "Test Loss:, 0.14602429093793035 | Test CER 0.04843749850988388\n",
      "Epoch 42| Train Loss: 0.0032697205065882634| Train CER 0.01116071455180645\n"
     ]
    },
    {
     "name": "stderr",
     "output_type": "stream",
     "text": [
      " 57%|█████▋    | 43/75 [01:28<01:06,  2.08s/it]"
     ]
    },
    {
     "name": "stdout",
     "output_type": "stream",
     "text": [
      "Test Loss:, 0.14583707484416664 | Test CER 0.04843749850988388\n",
      "Epoch 43| Train Loss: 0.0030348309415525626| Train CER 0.009598213247954845\n"
     ]
    },
    {
     "name": "stderr",
     "output_type": "stream",
     "text": [
      " 59%|█████▊    | 44/75 [01:30<01:04,  2.08s/it]"
     ]
    },
    {
     "name": "stdout",
     "output_type": "stream",
     "text": [
      "Test Loss:, 0.14726600609719753 | Test CER 0.04765624925494194\n",
      "Epoch 44| Train Loss: 0.002865292248316109| Train CER 0.01034226268529892\n"
     ]
    },
    {
     "name": "stderr",
     "output_type": "stream",
     "text": [
      " 60%|██████    | 45/75 [01:32<01:02,  2.09s/it]"
     ]
    },
    {
     "name": "stdout",
     "output_type": "stream",
     "text": [
      "Test Loss:, 0.14840354165062308 | Test CER 0.04765624925494194\n",
      "Epoch 45| Train Loss: 0.00272467196919024| Train CER 0.010119047947227955\n"
     ]
    },
    {
     "name": "stderr",
     "output_type": "stream",
     "text": [
      " 61%|██████▏   | 46/75 [01:34<01:00,  2.09s/it]"
     ]
    },
    {
     "name": "stdout",
     "output_type": "stream",
     "text": [
      "Test Loss:, 0.14599039824679494 | Test CER 0.04999999701976776\n",
      "Epoch 46| Train Loss: 0.0025561183325148056| Train CER 0.008928571827709675\n"
     ]
    },
    {
     "name": "stderr",
     "output_type": "stream",
     "text": [
      " 63%|██████▎   | 47/75 [01:36<00:57,  2.06s/it]"
     ]
    },
    {
     "name": "stdout",
     "output_type": "stream",
     "text": [
      "Test Loss:, 0.14998040348291397 | Test CER 0.04765624925494194\n",
      "Epoch 47| Train Loss: 0.0024324350358386126| Train CER 0.009077380411326885\n"
     ]
    },
    {
     "name": "stderr",
     "output_type": "stream",
     "text": [
      " 64%|██████▍   | 48/75 [01:38<00:56,  2.08s/it]"
     ]
    },
    {
     "name": "stdout",
     "output_type": "stream",
     "text": [
      "Test Loss:, 0.14869205048307776 | Test CER 0.04921875149011612\n",
      "Epoch 48| Train Loss: 0.0023053051637751715| Train CER 0.009747023694217205\n"
     ]
    },
    {
     "name": "stderr",
     "output_type": "stream",
     "text": [
      " 65%|██████▌   | 49/75 [01:40<00:53,  2.06s/it]"
     ]
    },
    {
     "name": "stdout",
     "output_type": "stream",
     "text": [
      "Test Loss:, 0.14854167704470456 | Test CER 0.04921875149011612\n",
      "Epoch 49| Train Loss: 0.002205601943257664| Train CER 0.00915178656578064\n"
     ]
    },
    {
     "name": "stderr",
     "output_type": "stream",
     "text": [
      " 67%|██████▋   | 50/75 [01:42<00:51,  2.06s/it]"
     ]
    },
    {
     "name": "stdout",
     "output_type": "stream",
     "text": [
      "Test Loss:, 0.15026318025775254 | Test CER 0.04921875149011612\n",
      "Epoch 50| Train Loss: 0.002109332026780716| Train CER 0.010119047947227955\n"
     ]
    },
    {
     "name": "stderr",
     "output_type": "stream",
     "text": [
      " 68%|██████▊   | 51/75 [01:45<00:49,  2.08s/it]"
     ]
    },
    {
     "name": "stdout",
     "output_type": "stream",
     "text": [
      "Epoch 00051: reducing learning rate of group 0 to 3.0000e-04.\n",
      "Test Loss:, 0.1509579918347299 | Test CER 0.04921875149011612\n",
      "Epoch 51| Train Loss: 0.0020685248891822994| Train CER 0.0100446417927742\n"
     ]
    },
    {
     "name": "stderr",
     "output_type": "stream",
     "text": [
      " 69%|██████▉   | 52/75 [01:47<00:47,  2.05s/it]"
     ]
    },
    {
     "name": "stdout",
     "output_type": "stream",
     "text": [
      "Test Loss:, 0.14918536506593227 | Test CER 0.04999999701976776\n",
      "Epoch 52| Train Loss: 0.001999484799203596| Train CER 0.01108630932867527\n"
     ]
    },
    {
     "name": "stderr",
     "output_type": "stream",
     "text": [
      " 71%|███████   | 53/75 [01:49<00:46,  2.10s/it]"
     ]
    },
    {
     "name": "stdout",
     "output_type": "stream",
     "text": [
      "Test Loss:, 0.15030825790017843 | Test CER 0.04921875149011612\n",
      "Epoch 53| Train Loss: 0.001983004289546183| Train CER 0.009747025556862354\n"
     ]
    },
    {
     "name": "stderr",
     "output_type": "stream",
     "text": [
      " 72%|███████▏  | 54/75 [01:51<00:43,  2.08s/it]"
     ]
    },
    {
     "name": "stdout",
     "output_type": "stream",
     "text": [
      "Test Loss:, 0.15188094275072217 | Test CER 0.050710227340459824\n",
      "Epoch 54| Train Loss: 0.0019740949501283467| Train CER 0.009523809887468815\n"
     ]
    },
    {
     "name": "stderr",
     "output_type": "stream",
     "text": [
      " 73%|███████▎  | 55/75 [01:53<00:40,  2.04s/it]"
     ]
    },
    {
     "name": "stdout",
     "output_type": "stream",
     "text": [
      "Test Loss:, 0.15104195149615407 | Test CER 0.04843749850988388\n",
      "Epoch 55| Train Loss: 0.0019363493941325163| Train CER 0.009523809887468815\n"
     ]
    },
    {
     "name": "stderr",
     "output_type": "stream",
     "text": [
      " 75%|███████▍  | 56/75 [01:55<00:39,  2.06s/it]"
     ]
    },
    {
     "name": "stdout",
     "output_type": "stream",
     "text": [
      "Test Loss:, 0.15200556814670563 | Test CER 0.050710227340459824\n",
      "Epoch 56| Train Loss: 0.0019045013967635377| Train CER 0.009151785634458065\n"
     ]
    },
    {
     "name": "stderr",
     "output_type": "stream",
     "text": [
      " 76%|███████▌  | 57/75 [01:57<00:37,  2.07s/it]"
     ]
    },
    {
     "name": "stdout",
     "output_type": "stream",
     "text": [
      "Test Loss:, 0.15011156792752445 | Test CER 0.04843749850988388\n",
      "Epoch 57| Train Loss: 0.001874837583662676| Train CER 0.009523809887468815\n"
     ]
    },
    {
     "name": "stderr",
     "output_type": "stream",
     "text": [
      " 77%|███████▋  | 58/75 [01:59<00:35,  2.08s/it]"
     ]
    },
    {
     "name": "stdout",
     "output_type": "stream",
     "text": [
      "Test Loss:, 0.15105185913853347 | Test CER 0.04921875149011612\n",
      "Epoch 58| Train Loss: 0.0018625940678508154| Train CER 0.01063988171517849\n"
     ]
    },
    {
     "name": "stderr",
     "output_type": "stream",
     "text": [
      " 79%|███████▊  | 59/75 [02:01<00:33,  2.08s/it]"
     ]
    },
    {
     "name": "stdout",
     "output_type": "stream",
     "text": [
      "Test Loss:, 0.1522488621994853 | Test CER 0.051491476595401764\n",
      "Epoch 59| Train Loss: 0.0018134751423661197| Train CER 0.009374999441206455\n"
     ]
    },
    {
     "name": "stderr",
     "output_type": "stream",
     "text": [
      " 80%|████████  | 60/75 [02:03<00:31,  2.08s/it]"
     ]
    },
    {
     "name": "stdout",
     "output_type": "stream",
     "text": [
      "Test Loss:, 0.15308461780659854 | Test CER 0.05149148032069206\n",
      "Epoch 60| Train Loss: 0.0018053832380766316| Train CER 0.010119047947227955\n"
     ]
    },
    {
     "name": "stderr",
     "output_type": "stream",
     "text": [
      " 81%|████████▏ | 61/75 [02:05<00:28,  2.07s/it]"
     ]
    },
    {
     "name": "stdout",
     "output_type": "stream",
     "text": [
      "Test Loss:, 0.1511062104254961 | Test CER 0.04999999701976776\n",
      "Epoch 61| Train Loss: 0.0017664086023744727| Train CER 0.009151785634458065\n"
     ]
    },
    {
     "name": "stderr",
     "output_type": "stream",
     "text": [
      " 83%|████████▎ | 62/75 [02:07<00:27,  2.11s/it]"
     ]
    },
    {
     "name": "stdout",
     "output_type": "stream",
     "text": [
      "Epoch 00062: reducing learning rate of group 0 to 9.0000e-05.\n",
      "Test Loss:, 0.15194752649404109 | Test CER 0.05149148032069206\n",
      "Epoch 62| Train Loss: 0.0017712824046611786| Train CER 0.009523809887468815\n"
     ]
    },
    {
     "name": "stderr",
     "output_type": "stream",
     "text": [
      " 84%|████████▍ | 63/75 [02:09<00:24,  2.07s/it]"
     ]
    },
    {
     "name": "stdout",
     "output_type": "stream",
     "text": [
      "Test Loss:, 0.1516974603291601 | Test CER 0.052272725850343704\n",
      "Epoch 63| Train Loss: 0.0017502864190776432| Train CER 0.009747025556862354\n"
     ]
    },
    {
     "name": "stderr",
     "output_type": "stream",
     "text": [
      " 85%|████████▌ | 64/75 [02:12<00:22,  2.08s/it]"
     ]
    },
    {
     "name": "stdout",
     "output_type": "stream",
     "text": [
      "Test Loss:, 0.15451365825720131 | Test CER 0.05149148032069206\n",
      "Epoch 64| Train Loss: 0.0017487985481108939| Train CER 0.008928571827709675\n"
     ]
    },
    {
     "name": "stderr",
     "output_type": "stream",
     "text": [
      " 87%|████████▋ | 65/75 [02:14<00:21,  2.10s/it]"
     ]
    },
    {
     "name": "stdout",
     "output_type": "stream",
     "text": [
      "Test Loss:, 0.1542133290786296 | Test CER 0.05305397883057594\n",
      "Epoch 65| Train Loss: 0.0017407378680737956| Train CER 0.008928571827709675\n"
     ]
    },
    {
     "name": "stderr",
     "output_type": "stream",
     "text": [
      " 88%|████████▊ | 66/75 [02:16<00:18,  2.09s/it]"
     ]
    },
    {
     "name": "stdout",
     "output_type": "stream",
     "text": [
      "Test Loss:, 0.15483493357896805 | Test CER 0.05149148032069206\n",
      "Epoch 66| Train Loss: 0.0017323721549473703| Train CER 0.009747023694217205\n"
     ]
    },
    {
     "name": "stderr",
     "output_type": "stream",
     "text": [
      " 89%|████████▉ | 67/75 [02:18<00:16,  2.12s/it]"
     ]
    },
    {
     "name": "stdout",
     "output_type": "stream",
     "text": [
      "Test Loss:, 0.15188522078096867 | Test CER 0.052272729575634\n",
      "Epoch 67| Train Loss: 0.0017393227899447083| Train CER 0.010639880783855915\n"
     ]
    },
    {
     "name": "stderr",
     "output_type": "stream",
     "text": [
      " 91%|█████████ | 68/75 [02:20<00:14,  2.09s/it]"
     ]
    },
    {
     "name": "stdout",
     "output_type": "stream",
     "text": [
      "Test Loss:, 0.15149192954413593 | Test CER 0.04921875149011612\n",
      "Epoch 68| Train Loss: 0.0017274044221267104| Train CER 0.009226190857589245\n"
     ]
    },
    {
     "name": "stderr",
     "output_type": "stream",
     "text": [
      " 92%|█████████▏| 69/75 [02:22<00:12,  2.09s/it]"
     ]
    },
    {
     "name": "stdout",
     "output_type": "stream",
     "text": [
      "Test Loss:, 0.15355257247574627 | Test CER 0.05305397883057594\n",
      "Epoch 69| Train Loss: 0.001712174595533205| Train CER 0.009523809887468815\n"
     ]
    },
    {
     "name": "stderr",
     "output_type": "stream",
     "text": [
      " 93%|█████████▎| 70/75 [02:24<00:10,  2.06s/it]"
     ]
    },
    {
     "name": "stdout",
     "output_type": "stream",
     "text": [
      "Test Loss:, 0.15373767958953977 | Test CER 0.052272725850343704\n",
      "Epoch 70| Train Loss: 0.0017062656115740538| Train CER 0.009151785634458065\n"
     ]
    },
    {
     "name": "stderr",
     "output_type": "stream",
     "text": [
      " 95%|█████████▍| 71/75 [02:26<00:08,  2.10s/it]"
     ]
    },
    {
     "name": "stdout",
     "output_type": "stream",
     "text": [
      "Test Loss:, 0.15200822777114809 | Test CER 0.05000000074505806\n",
      "Epoch 71| Train Loss: 0.0017031149140426091| Train CER 0.009374999441206455\n"
     ]
    },
    {
     "name": "stderr",
     "output_type": "stream",
     "text": [
      " 96%|█████████▌| 72/75 [02:28<00:06,  2.12s/it]"
     ]
    },
    {
     "name": "stdout",
     "output_type": "stream",
     "text": [
      "Test Loss:, 0.15283226664178073 | Test CER 0.05149148032069206\n",
      "Epoch 72| Train Loss: 0.0016948873859031924| Train CER 0.009598215110599995\n"
     ]
    },
    {
     "name": "stderr",
     "output_type": "stream",
     "text": [
      " 97%|█████████▋| 73/75 [02:31<00:04,  2.14s/it]"
     ]
    },
    {
     "name": "stdout",
     "output_type": "stream",
     "text": [
      "Epoch 00073: reducing learning rate of group 0 to 2.7000e-05.\n",
      "Test Loss:, 0.15190758928656578 | Test CER 0.052272729575634\n",
      "Epoch 73| Train Loss: 0.0016758439929357596| Train CER 0.009151785634458065\n"
     ]
    },
    {
     "name": "stderr",
     "output_type": "stream",
     "text": [
      " 99%|█████████▊| 74/75 [02:33<00:02,  2.08s/it]"
     ]
    },
    {
     "name": "stdout",
     "output_type": "stream",
     "text": [
      "Test Loss:, 0.15251247584819794 | Test CER 0.05149148032069206\n",
      "Epoch 74| Train Loss: 0.0016796219362212078| Train CER 0.009598215110599995\n"
     ]
    },
    {
     "name": "stderr",
     "output_type": "stream",
     "text": [
      "100%|██████████| 75/75 [02:35<00:00,  2.07s/it]"
     ]
    },
    {
     "name": "stdout",
     "output_type": "stream",
     "text": [
      "Test Loss:, 0.1513143873307854 | Test CER 0.05000000074505806\n"
     ]
    },
    {
     "name": "stderr",
     "output_type": "stream",
     "text": [
      "\n"
     ]
    }
   ],
   "source": [
    "model = CaptchaRecognitionModel(in_channels=1).to(device)\n",
    "optim = torch.optim.Adam(model.parameters(), lr=1e-3)\n",
    "epoch_num = 75\n",
    "criterion = nn.CTCLoss()\n",
    "scheduler = torch.optim.lr_scheduler.ReduceLROnPlateau(\n",
    "    optim, factor=0.3, patience=10, verbose=True, threshold=0.01\n",
    ")\n",
    "metric = torchmetrics.CharErrorRate()\n",
    "model, decoded_outs, decoded_labs_all, test_loss = train(model, optim, criterion, epoch_num, device, train_loader, test_loader, scheduler, metric)"
   ]
  },
  {
   "cell_type": "markdown",
   "metadata": {},
   "source": [
    "## Test CER в районе 0.05"
   ]
  },
  {
   "cell_type": "markdown",
   "metadata": {},
   "source": [
    "# Анализ ошибок модели."
   ]
  },
  {
   "cell_type": "code",
   "execution_count": 92,
   "metadata": {},
   "outputs": [
    {
     "data": {
      "image/png": "[encoded data removed]",
      "text/plain": [
       "<Figure size 1500x1200 with 1 Axes>"
      ]
     },
     "metadata": {},
     "output_type": "display_data"
    }
   ],
   "source": [
    "image_path = \"./samples/ffnxn.png\" #data[ids]\n",
    "\n",
    "\n",
    "def show_prediction(model, image_path):\n",
    "    model.eval()\n",
    "    image = Image.open(image_path).convert(\"L\")\n",
    "    image_tensor = transform_test(image)\n",
    "    image_tensor = image_tensor.unsqueeze(0).to(device)\n",
    "    out, _, _ = model(image_tensor)\n",
    "    gt = image_path.split('/')[-1].split('.')[0]\n",
    "\n",
    "    out = out.permute(1, 0, 2)\n",
    "    out = out.log_softmax(2)\n",
    "    out = out.argmax(-1)\n",
    "    decoded_out = decode_ctc(out, class_to_symbol)\n",
    "\n",
    "    plt.figure(figsize=(15, 12))\n",
    "    img_array = np.asarray(image)\n",
    "    plt.title(f'Ground Truth - {gt} || Prediction - {decoded_out[0]}')\n",
    "    plt.axis('off')\n",
    "    plt.imshow(img_array)\n",
    "    \n",
    "show_prediction(model, image_path)"
   ]
  },
  {
   "cell_type": "markdown",
   "metadata": {},
   "source": [
    "for "
   ]
  },
  {
   "cell_type": "code",
   "execution_count": null,
   "metadata": {},
   "outputs": [],
   "source": [
    "decoded_outs, decoded_labs_all"
   ]
  },
  {
   "cell_type": "code",
   "execution_count": 94,
   "metadata": {},
   "outputs": [],
   "source": [
    "decoded_outs = [captcha for sublist in decoded_outs for captcha in sublist]"
   ]
  },
  {
   "cell_type": "code",
   "execution_count": 96,
   "metadata": {},
   "outputs": [],
   "source": [
    "decoded_labs_all = [captcha for sublist in decoded_labs_all for captcha in sublist]"
   ]
  },
  {
   "cell_type": "code",
   "execution_count": 99,
   "metadata": {},
   "outputs": [
    {
     "data": {
      "image/png": "[encoded data removed]",
      "text/plain": [
       "<Figure size 1500x1200 with 1 Axes>"
      ]
     },
     "metadata": {},
     "output_type": "display_data"
    },
    {
     "data": {
      "image/png": "[encoded data removed]",
      "text/plain": [
       "<Figure size 1500x1200 with 1 Axes>"
      ]
     },
     "metadata": {},
     "output_type": "display_data"
    },
    {
     "data": {
      "image/png": "[encoded data removed]",
      "text/plain": [
       "<Figure size 1500x1200 with 1 Axes>"
      ]
     },
     "metadata": {},
     "output_type": "display_data"
    },
    {
     "data": {
      "image/png": "[encoded data removed]",
      "text/plain": [
       "<Figure size 1500x1200 with 1 Axes>"
      ]
     },
     "metadata": {},
     "output_type": "display_data"
    },
    {
     "data": {
      "image/png": "[encoded data removed]",
      "text/plain": [
       "<Figure size 1500x1200 with 1 Axes>"
      ]
     },
     "metadata": {},
     "output_type": "display_data"
    },
    {
     "data": {
      "image/png": "[encoded data removed]",
      "text/plain": [
       "<Figure size 1500x1200 with 1 Axes>"
      ]
     },
     "metadata": {},
     "output_type": "display_data"
    }
   ],
   "source": [
    "wrong_counter = 0\n",
    "for idx, (pred, gt) in enumerate(zip(decoded_outs, decoded_labs_all)):\n",
    "    if pred != gt:\n",
    "        image_path = \"./samples/\" + f\"{gt}.png\"\n",
    "        show_prediction(model, image_path)\n",
    "        wrong_counter += 1\n",
    "    if wrong_counter > 5:\n",
    "        break"
   ]
  },
  {
   "cell_type": "markdown",
   "metadata": {},
   "source": [
    "- Картинка 1. Возможно модель увидела m\n",
    "- Картинка 2. Странное декодирование предсказаний модели, что получилось 6 букв\n",
    "- Картинка 5. `n` немного похоже на `p` "
   ]
  },
  {
   "cell_type": "markdown",
   "metadata": {},
   "source": [
    "# References\n",
    "- https://arxiv.org/pdf/1507.05717.pdf\n",
    "- https://www.kaggle.com/code/kowalskyyy999/captcha-recognition-crnn-ctcloss-using-pytorch\n",
    "- https://www.kaggle.com/code/lestervioleta/captcha-recognition-model\n",
    "- https://actamachina.com/notebooks/2019/03/28/captcha.html"
   ]
  }
 ],
 "metadata": {
  "kernelspec": {
   "display_name": "Python 3.8.10 64-bit",
   "language": "python",
   "name": "python3"
  },
  "language_info": {
   "codemirror_mode": {
    "name": "ipython",
    "version": 3
   },
   "file_extension": ".py",
   "mimetype": "text/x-python",
   "name": "python",
   "nbconvert_exporter": "python",
   "pygments_lexer": "ipython3",
   "version": "3.8.10"
  },
  "orig_nbformat": 4,
  "vscode": {
   "interpreter": {
    "hash": "5b3ded1ccb95c1d9bd405e7b823d9e85424cde40fbb5985eb47e999ef50e15b4"
   }
  }
 },
 "nbformat": 4,
 "nbformat_minor": 2
}
